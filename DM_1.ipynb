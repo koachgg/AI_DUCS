{
 "cells": [
  {
   "cell_type": "code",
   "execution_count": 2,
   "metadata": {},
   "outputs": [],
   "source": [
    "import pandas as pd\n",
    "from matplotlib import pyplot as plt"
   ]
  },
  {
   "cell_type": "code",
   "execution_count": 3,
   "metadata": {},
   "outputs": [],
   "source": [
    "df = {\n",
    "    \"age\": [21,2,18,224,34],\n",
    "\"agegroup\": [\"adult\",\"child\",\"adult\",\"elderly\",\"adult\"],\n",
    "\"height\": [6.0,3,5.7,5,-7],\n",
    "\"status\": [\"Single\",\"Married\",\"Married\",\"Widowed\",\"Married\"],\n",
    "\"yearsmarried\": [-1,0,20,2,3]}\n"
   ]
  },
  {
   "cell_type": "code",
   "execution_count": 4,
   "metadata": {},
   "outputs": [
    {
     "data": {
      "text/plain": [
       "{'age': [21, 2, 18, 224, 34],\n",
       " 'agegroup': ['adult', 'child', 'adult', 'elderly', 'adult'],\n",
       " 'height': [6.0, 3, 5.7, 5, -7],\n",
       " 'status': ['Single', 'Married', 'Married', 'Widowed', 'Married'],\n",
       " 'yearsmarried': [-1, 0, 20, 2, 3]}"
      ]
     },
     "execution_count": 4,
     "metadata": {},
     "output_type": "execute_result"
    }
   ],
   "source": [
    "df"
   ]
  },
  {
   "cell_type": "markdown",
   "metadata": {},
   "source": [
    "# (i)\n"
   ]
  },
  {
   "cell_type": "code",
   "execution_count": 5,
   "metadata": {},
   "outputs": [
    {
     "data": {
      "text/html": [
       "<div>\n",
       "<style scoped>\n",
       "    .dataframe tbody tr th:only-of-type {\n",
       "        vertical-align: middle;\n",
       "    }\n",
       "\n",
       "    .dataframe tbody tr th {\n",
       "        vertical-align: top;\n",
       "    }\n",
       "\n",
       "    .dataframe thead th {\n",
       "        text-align: right;\n",
       "    }\n",
       "</style>\n",
       "<table border=\"1\" class=\"dataframe\">\n",
       "  <thead>\n",
       "    <tr style=\"text-align: right;\">\n",
       "      <th></th>\n",
       "      <th>age</th>\n",
       "      <th>agegroup</th>\n",
       "      <th>height</th>\n",
       "      <th>status</th>\n",
       "      <th>yearsmarried</th>\n",
       "    </tr>\n",
       "  </thead>\n",
       "  <tbody>\n",
       "    <tr>\n",
       "      <td>0</td>\n",
       "      <td>21</td>\n",
       "      <td>adult</td>\n",
       "      <td>6.0</td>\n",
       "      <td>Single</td>\n",
       "      <td>-1</td>\n",
       "    </tr>\n",
       "    <tr>\n",
       "      <td>1</td>\n",
       "      <td>2</td>\n",
       "      <td>child</td>\n",
       "      <td>3.0</td>\n",
       "      <td>Married</td>\n",
       "      <td>0</td>\n",
       "    </tr>\n",
       "    <tr>\n",
       "      <td>2</td>\n",
       "      <td>18</td>\n",
       "      <td>adult</td>\n",
       "      <td>5.7</td>\n",
       "      <td>Married</td>\n",
       "      <td>20</td>\n",
       "    </tr>\n",
       "    <tr>\n",
       "      <td>3</td>\n",
       "      <td>224</td>\n",
       "      <td>elderly</td>\n",
       "      <td>5.0</td>\n",
       "      <td>Widowed</td>\n",
       "      <td>2</td>\n",
       "    </tr>\n",
       "    <tr>\n",
       "      <td>4</td>\n",
       "      <td>34</td>\n",
       "      <td>adult</td>\n",
       "      <td>-7.0</td>\n",
       "      <td>Married</td>\n",
       "      <td>3</td>\n",
       "    </tr>\n",
       "  </tbody>\n",
       "</table>\n",
       "</div>"
      ],
      "text/plain": [
       "   age agegroup  height   status  yearsmarried\n",
       "0   21    adult     6.0   Single            -1\n",
       "1    2    child     3.0  Married             0\n",
       "2   18    adult     5.7  Married            20\n",
       "3  224  elderly     5.0  Widowed             2\n",
       "4   34    adult    -7.0  Married             3"
      ]
     },
     "execution_count": 5,
     "metadata": {},
     "output_type": "execute_result"
    }
   ],
   "source": [
    "df = pd.DataFrame(df)\n",
    "df"
   ]
  },
  {
   "cell_type": "code",
   "execution_count": 6,
   "metadata": {},
   "outputs": [],
   "source": [
    "df.to_csv('people.csv')"
   ]
  },
  {
   "cell_type": "code",
   "execution_count": 7,
   "metadata": {},
   "outputs": [],
   "source": [
    "df = pd.read_csv('people.csv', index_col=0)"
   ]
  },
  {
   "cell_type": "code",
   "execution_count": 8,
   "metadata": {},
   "outputs": [
    {
     "data": {
      "text/html": [
       "<div>\n",
       "<style scoped>\n",
       "    .dataframe tbody tr th:only-of-type {\n",
       "        vertical-align: middle;\n",
       "    }\n",
       "\n",
       "    .dataframe tbody tr th {\n",
       "        vertical-align: top;\n",
       "    }\n",
       "\n",
       "    .dataframe thead th {\n",
       "        text-align: right;\n",
       "    }\n",
       "</style>\n",
       "<table border=\"1\" class=\"dataframe\">\n",
       "  <thead>\n",
       "    <tr style=\"text-align: right;\">\n",
       "      <th></th>\n",
       "      <th>age</th>\n",
       "      <th>agegroup</th>\n",
       "      <th>height</th>\n",
       "      <th>status</th>\n",
       "      <th>yearsmarried</th>\n",
       "    </tr>\n",
       "  </thead>\n",
       "  <tbody>\n",
       "    <tr>\n",
       "      <td>0</td>\n",
       "      <td>21</td>\n",
       "      <td>adult</td>\n",
       "      <td>6.0</td>\n",
       "      <td>Single</td>\n",
       "      <td>-1</td>\n",
       "    </tr>\n",
       "    <tr>\n",
       "      <td>1</td>\n",
       "      <td>2</td>\n",
       "      <td>child</td>\n",
       "      <td>3.0</td>\n",
       "      <td>Married</td>\n",
       "      <td>0</td>\n",
       "    </tr>\n",
       "    <tr>\n",
       "      <td>2</td>\n",
       "      <td>18</td>\n",
       "      <td>adult</td>\n",
       "      <td>5.7</td>\n",
       "      <td>Married</td>\n",
       "      <td>20</td>\n",
       "    </tr>\n",
       "    <tr>\n",
       "      <td>3</td>\n",
       "      <td>224</td>\n",
       "      <td>elderly</td>\n",
       "      <td>5.0</td>\n",
       "      <td>Widowed</td>\n",
       "      <td>2</td>\n",
       "    </tr>\n",
       "    <tr>\n",
       "      <td>4</td>\n",
       "      <td>34</td>\n",
       "      <td>adult</td>\n",
       "      <td>-7.0</td>\n",
       "      <td>Married</td>\n",
       "      <td>3</td>\n",
       "    </tr>\n",
       "  </tbody>\n",
       "</table>\n",
       "</div>"
      ],
      "text/plain": [
       "   age agegroup  height   status  yearsmarried\n",
       "0   21    adult     6.0   Single            -1\n",
       "1    2    child     3.0  Married             0\n",
       "2   18    adult     5.7  Married            20\n",
       "3  224  elderly     5.0  Widowed             2\n",
       "4   34    adult    -7.0  Married             3"
      ]
     },
     "execution_count": 8,
     "metadata": {},
     "output_type": "execute_result"
    }
   ],
   "source": [
    "df"
   ]
  },
  {
   "cell_type": "markdown",
   "metadata": {},
   "source": [
    "# (ii)"
   ]
  },
  {
   "cell_type": "code",
   "execution_count": 9,
   "metadata": {},
   "outputs": [],
   "source": [
    "def d1(): \n",
    "        \n",
    "\n",
    "    print(\"Age range:\")\n",
    "    print((df['age']<150) & (df['age']>-1))\n",
    "    \n"
   ]
  },
  {
   "cell_type": "code",
   "execution_count": 10,
   "metadata": {},
   "outputs": [],
   "source": [
    "def d2(): \n",
    "    print(\"Years Married:\")\n",
    "    print(df['age'] > df['yearsmarried'])\n"
   ]
  },
  {
   "cell_type": "code",
   "execution_count": 11,
   "metadata": {},
   "outputs": [],
   "source": [
    "def d3(): \n",
    "    print(\"Status:\")\n",
    "    print((df[\"status\"]==\"Married\") | (df[\"status\"]==\"Single\") | (df[\"status\"]==\"Widowed\"))\n"
   ]
  },
  {
   "cell_type": "code",
   "execution_count": 12,
   "metadata": {},
   "outputs": [],
   "source": [
    "def d4():  \n",
    "    df.loc[df['age']<18, 'agegroup'] = 'child'\n",
    "    df.loc[(df['age']>=18) & (df['age']<65), 'agegroup'] = 'adult'\n",
    "    df.loc[df['age']>=65, 'agegroup'] = 'elderly'\n",
    "    print(\"Age group:\")\n",
    "    print(df)\n"
   ]
  },
  {
   "cell_type": "markdown",
   "metadata": {},
   "source": [
    "# (iv)\n"
   ]
  },
  {
   "cell_type": "code",
   "execution_count": 13,
   "metadata": {},
   "outputs": [
    {
     "name": "stdout",
     "output_type": "stream",
     "text": [
      "no.of valid values: 5\n",
      "no.of valid values: 0\n"
     ]
    }
   ],
   "source": [
    "x=(df[\"status\"]==\"Married\") | (df[\"status\"]==\"Single\") | (df[\"status\"]==\"Widowed\")\n",
    "print(\"no.of valid values:\",x.sum())\n",
    "print(\"no.of valid values:\",len(x)-x.sum())\n",
    "\n"
   ]
  },
  {
   "cell_type": "markdown",
   "metadata": {},
   "source": [
    "# (iii)"
   ]
  },
  {
   "cell_type": "code",
   "execution_count": 14,
   "metadata": {},
   "outputs": [
    {
     "name": "stdout",
     "output_type": "stream",
     "text": [
      "Age range:\n",
      "0     True\n",
      "1     True\n",
      "2     True\n",
      "3    False\n",
      "4     True\n",
      "Name: age, dtype: bool\n",
      "Years Married:\n",
      "0     True\n",
      "1     True\n",
      "2    False\n",
      "3     True\n",
      "4     True\n",
      "dtype: bool\n",
      "Status:\n",
      "0    True\n",
      "1    True\n",
      "2    True\n",
      "3    True\n",
      "4    True\n",
      "Name: status, dtype: bool\n",
      "Age group:\n",
      "   age agegroup  height   status  yearsmarried\n",
      "0   21    adult     6.0   Single            -1\n",
      "1    2    child     3.0  Married             0\n",
      "2   18    adult     5.7  Married            20\n",
      "3  224  elderly     5.0  Widowed             2\n",
      "4   34    adult    -7.0  Married             3\n",
      "{None}\n"
     ]
    }
   ],
   "source": [
    "E = {d1(),d2(),d3(),d4()}\n",
    "print(E)"
   ]
  },
  {
   "cell_type": "markdown",
   "metadata": {},
   "source": [
    "# (v)"
   ]
  },
  {
   "cell_type": "code",
   "execution_count": 15,
   "metadata": {},
   "outputs": [
    {
     "data": {
      "text/plain": [
       "<matplotlib.axes._subplots.AxesSubplot at 0x1cecc8ad148>"
      ]
     },
     "execution_count": 15,
     "metadata": {},
     "output_type": "execute_result"
    },
    {
     "data": {
      "image/png": "[encoded data removed]",
      "text/plain": [
       "<Figure size 432x288 with 1 Axes>"
      ]
     },
     "metadata": {
      "needs_background": "light"
     },
     "output_type": "display_data"
    }
   ],
   "source": [
    "df.plot()"
   ]
  },
  {
   "cell_type": "code",
   "execution_count": null,
   "metadata": {},
   "outputs": [],
   "source": []
  }
 ],
 "metadata": {
  "kernelspec": {
   "display_name": "Python 3",
   "language": "python",
   "name": "python3"
  },
  "language_info": {
   "codemirror_mode": {
    "name": "ipython",
    "version": 3
   },
   "file_extension": ".py",
   "mimetype": "text/x-python",
   "name": "python",
   "nbconvert_exporter": "python",
   "pygments_lexer": "ipython3",
   "version": "3.7.4"
  }
 },
 "nbformat": 4,
 "nbformat_minor": 2
}
